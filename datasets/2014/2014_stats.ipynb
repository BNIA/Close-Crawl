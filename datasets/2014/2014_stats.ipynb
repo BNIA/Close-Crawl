{
 "cells": [
  {
   "cell_type": "markdown",
   "metadata": {},
   "source": [
    "# 2014 Scraped Foreclosure Case Data"
   ]
  },
  {
   "cell_type": "code",
   "execution_count": 1,
   "metadata": {
    "collapsed": false
   },
   "outputs": [],
   "source": [
    "from pandas import DataFrame, read_csv, to_datetime\n",
    "\n",
    "import seaborn as sns\n",
    "import matplotlib.pyplot as plt\n",
    "sns.set(style=\"whitegrid\", font_scale=1.5)\n",
    "%matplotlib inline"
   ]
  },
  {
   "cell_type": "code",
   "execution_count": 2,
   "metadata": {
    "collapsed": false
   },
   "outputs": [],
   "source": [
    "df = read_csv(\"2014_clean.csv\")"
   ]
  },
  {
   "cell_type": "code",
   "execution_count": 3,
   "metadata": {
    "collapsed": false
   },
   "outputs": [
    {
     "data": {
      "text/html": [
       "<div>\n",
       "<table border=\"1\" class=\"dataframe\">\n",
       "  <thead>\n",
       "    <tr style=\"text-align: right;\">\n",
       "      <th></th>\n",
       "      <th>Filing Date</th>\n",
       "      <th>Case Number</th>\n",
       "      <th>Case Type</th>\n",
       "      <th>Title</th>\n",
       "      <th>Plaintiff</th>\n",
       "      <th>Defendant</th>\n",
       "      <th>Address</th>\n",
       "      <th>Zip Code</th>\n",
       "      <th>Partial Cost</th>\n",
       "    </tr>\n",
       "  </thead>\n",
       "  <tbody>\n",
       "    <tr>\n",
       "      <th>0</th>\n",
       "      <td>2013-03-18</td>\n",
       "      <td>24O14000813</td>\n",
       "      <td>Mortgage</td>\n",
       "      <td>Lloyd D Lurie vs SADA LLC</td>\n",
       "      <td>Lloyd D Lurie</td>\n",
       "      <td>SADA LLC</td>\n",
       "      <td>4300 Erdman Ave</td>\n",
       "      <td>21213.0</td>\n",
       "      <td>$194,892.43</td>\n",
       "    </tr>\n",
       "    <tr>\n",
       "      <th>1</th>\n",
       "      <td>2013-07-24</td>\n",
       "      <td>24O14002232</td>\n",
       "      <td>Mortgage</td>\n",
       "      <td>John E Driscoll III vs Estate Of Earl Jerry Sye</td>\n",
       "      <td>John E Driscoll III</td>\n",
       "      <td>Estate Of Earl Jerry Sye</td>\n",
       "      <td>4033 Boarman Ave</td>\n",
       "      <td>21215.0</td>\n",
       "      <td>NaN</td>\n",
       "    </tr>\n",
       "    <tr>\n",
       "      <th>2</th>\n",
       "      <td>2014-01-02</td>\n",
       "      <td>24O14000001</td>\n",
       "      <td>Mortgage</td>\n",
       "      <td>James E Clarke vs Tiffany R Harris</td>\n",
       "      <td>James E Clarke</td>\n",
       "      <td>Tiffany R Harris</td>\n",
       "      <td>4603 Valley View Ave</td>\n",
       "      <td>21206.0</td>\n",
       "      <td>$175,648.50</td>\n",
       "    </tr>\n",
       "    <tr>\n",
       "      <th>3</th>\n",
       "      <td>2014-01-02</td>\n",
       "      <td>24O14000002</td>\n",
       "      <td>Mortgage</td>\n",
       "      <td>James W Holderness vs Intercoastal Investment ...</td>\n",
       "      <td>James W Holderness</td>\n",
       "      <td>Intercoastal Investment Trust Ltd</td>\n",
       "      <td>4718 Edmondson Ave</td>\n",
       "      <td>21229.0</td>\n",
       "      <td>$166,358.48</td>\n",
       "    </tr>\n",
       "    <tr>\n",
       "      <th>4</th>\n",
       "      <td>2014-01-02</td>\n",
       "      <td>24O14000003</td>\n",
       "      <td>Mortgage</td>\n",
       "      <td>James W Holderness vs Intercoastal Investment ...</td>\n",
       "      <td>James W Holderness</td>\n",
       "      <td>Intercoastal Investment Trust Ltd</td>\n",
       "      <td>333 N Stricker St</td>\n",
       "      <td>21223.0</td>\n",
       "      <td>$23,189.54</td>\n",
       "    </tr>\n",
       "  </tbody>\n",
       "</table>\n",
       "</div>"
      ],
      "text/plain": [
       "  Filing Date  Case Number Case Type  \\\n",
       "0  2013-03-18  24O14000813  Mortgage   \n",
       "1  2013-07-24  24O14002232  Mortgage   \n",
       "2  2014-01-02  24O14000001  Mortgage   \n",
       "3  2014-01-02  24O14000002  Mortgage   \n",
       "4  2014-01-02  24O14000003  Mortgage   \n",
       "\n",
       "                                               Title            Plaintiff  \\\n",
       "0                          Lloyd D Lurie vs SADA LLC        Lloyd D Lurie   \n",
       "1    John E Driscoll III vs Estate Of Earl Jerry Sye  John E Driscoll III   \n",
       "2                 James E Clarke vs Tiffany R Harris       James E Clarke   \n",
       "3  James W Holderness vs Intercoastal Investment ...   James W Holderness   \n",
       "4  James W Holderness vs Intercoastal Investment ...   James W Holderness   \n",
       "\n",
       "                           Defendant               Address  Zip Code  \\\n",
       "0                           SADA LLC       4300 Erdman Ave   21213.0   \n",
       "1           Estate Of Earl Jerry Sye      4033 Boarman Ave   21215.0   \n",
       "2                   Tiffany R Harris  4603 Valley View Ave   21206.0   \n",
       "3  Intercoastal Investment Trust Ltd    4718 Edmondson Ave   21229.0   \n",
       "4  Intercoastal Investment Trust Ltd     333 N Stricker St   21223.0   \n",
       "\n",
       "  Partial Cost  \n",
       "0  $194,892.43  \n",
       "1          NaN  \n",
       "2  $175,648.50  \n",
       "3  $166,358.48  \n",
       "4   $23,189.54  "
      ]
     },
     "execution_count": 3,
     "metadata": {},
     "output_type": "execute_result"
    }
   ],
   "source": [
    "df[\"Filing Date\"] = to_datetime(df[\"Filing Date\"])\n",
    "\n",
    "df.head()"
   ]
  },
  {
   "cell_type": "code",
   "execution_count": 4,
   "metadata": {
    "collapsed": false
   },
   "outputs": [
    {
     "name": "stdout",
     "output_type": "stream",
     "text": [
      "Count of features:\n",
      "\n",
      "Filing Date     4017\n",
      "Case Number     4017\n",
      "Case Type       4017\n",
      "Title           4017\n",
      "Plaintiff       4015\n",
      "Defendant       4015\n",
      "Address         4017\n",
      "Zip Code        3513\n",
      "Partial Cost    3539\n",
      "dtype: int64\n"
     ]
    }
   ],
   "source": [
    "print \"Count of features:\\n\"\n",
    "print df.count()"
   ]
  },
  {
   "cell_type": "code",
   "execution_count": 5,
   "metadata": {
    "collapsed": false
   },
   "outputs": [
    {
     "name": "stdout",
     "output_type": "stream",
     "text": [
      "NULL count:\n",
      "\n",
      "Filing Date       0\n",
      "Case Number       0\n",
      "Case Type         0\n",
      "Title             0\n",
      "Plaintiff         2\n",
      "Defendant         2\n",
      "Address           0\n",
      "Zip Code        504\n",
      "Partial Cost    478\n",
      "dtype: int64\n"
     ]
    }
   ],
   "source": [
    "print \"NULL count:\\n\"\n",
    "print df.isnull().sum()"
   ]
  },
  {
   "cell_type": "code",
   "execution_count": 6,
   "metadata": {
    "collapsed": false
   },
   "outputs": [],
   "source": [
    "new_df = DataFrame(df.groupby(df[\"Filing Date\"].dt.week)['Case Number'].count())\n",
    "new_df.columns = [\"Case Count\"]\n",
    "new_df[\"Week\"] = new_df.index"
   ]
  },
  {
   "cell_type": "code",
   "execution_count": 7,
   "metadata": {
    "collapsed": false
   },
   "outputs": [
    {
     "name": "stdout",
     "output_type": "stream",
     "text": [
      "Distribution of cases:\n",
      "\n",
      "count     52.000000\n",
      "mean      77.250000\n",
      "std       14.988721\n",
      "min       41.000000\n",
      "25%       68.750000\n",
      "50%       78.500000\n",
      "75%       84.250000\n",
      "max      108.000000\n",
      "Name: Case Count, dtype: float64\n"
     ]
    }
   ],
   "source": [
    "print \"Distribution of cases:\\n\"\n",
    "print new_df[\"Case Count\"].describe()"
   ]
  },
  {
   "cell_type": "code",
   "execution_count": 8,
   "metadata": {
    "collapsed": false
   },
   "outputs": [
    {
     "data": {
      "text/plain": [
       "<seaborn.axisgrid.FacetGrid at 0x7f7b31be8b90>"
      ]
     },
     "execution_count": 8,
     "metadata": {},
     "output_type": "execute_result"
    },
    {
     "data": {
      "image/png": "[encoded data removed]",
      "text/plain": [
       "<matplotlib.figure.Figure at 0x7f7b31be8f50>"
      ]
     },
     "metadata": {},
     "output_type": "display_data"
    }
   ],
   "source": [
    "p = sns.factorplot(x=\"Week\", y='Case Count', kind='bar', data=new_df, size=12)\n",
    "p.set_xticklabels(rotation=90, horizontalalignment='right')"
   ]
  },
  {
   "cell_type": "code",
   "execution_count": null,
   "metadata": {
    "collapsed": true
   },
   "outputs": [],
   "source": []
  }
 ],
 "metadata": {
  "kernelspec": {
   "display_name": "Python 2",
   "language": "python",
   "name": "python2"
  },
  "language_info": {
   "codemirror_mode": {
    "name": "ipython",
    "version": 2
   },
   "file_extension": ".py",
   "mimetype": "text/x-python",
   "name": "python",
   "nbconvert_exporter": "python",
   "pygments_lexer": "ipython2",
   "version": "2.7.12"
  }
 },
 "nbformat": 4,
 "nbformat_minor": 0
}
