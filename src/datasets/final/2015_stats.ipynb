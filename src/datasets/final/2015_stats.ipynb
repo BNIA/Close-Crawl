{
 "cells": [
  {
   "cell_type": "markdown",
   "metadata": {},
   "source": [
    "# 2015 Scraped Foreclosure Case Data"
   ]
  },
  {
   "cell_type": "code",
   "execution_count": 1,
   "metadata": {
    "collapsed": false
   },
   "outputs": [],
   "source": [
    "from pandas import DataFrame, read_csv, to_datetime\n",
    "\n",
    "import seaborn as sns\n",
    "import matplotlib.pyplot as plt\n",
    "sns.set(style=\"whitegrid\", font_scale=1.5)\n",
    "%matplotlib inline"
   ]
  },
  {
   "cell_type": "code",
   "execution_count": 2,
   "metadata": {
    "collapsed": false
   },
   "outputs": [],
   "source": [
    "df = read_csv(\"2015.csv\")"
   ]
  },
  {
   "cell_type": "code",
   "execution_count": 3,
   "metadata": {
    "collapsed": false
   },
   "outputs": [
    {
     "data": {
      "text/html": [
       "<div>\n",
       "<table border=\"1\" class=\"dataframe\">\n",
       "  <thead>\n",
       "    <tr style=\"text-align: right;\">\n",
       "      <th></th>\n",
       "      <th>Filing Date</th>\n",
       "      <th>Case Number</th>\n",
       "      <th>Case Type</th>\n",
       "      <th>Title</th>\n",
       "      <th>Plaintiff</th>\n",
       "      <th>Defendant</th>\n",
       "      <th>Address</th>\n",
       "      <th>Zip Code</th>\n",
       "      <th>Partial Cost</th>\n",
       "    </tr>\n",
       "  </thead>\n",
       "  <tbody>\n",
       "    <tr>\n",
       "      <th>0</th>\n",
       "      <td>2015-01-05</td>\n",
       "      <td>24O15000001</td>\n",
       "      <td>Mortgage</td>\n",
       "      <td>Edward S Cohn vs Estate Of Sharon Stenhouse</td>\n",
       "      <td>Edward S Cohn</td>\n",
       "      <td>Estate Of Sharon Stenhouse</td>\n",
       "      <td>3456 Dolfield Ave</td>\n",
       "      <td>21215</td>\n",
       "      <td>$57,793.24</td>\n",
       "    </tr>\n",
       "    <tr>\n",
       "      <th>1</th>\n",
       "      <td>2015-01-05</td>\n",
       "      <td>24O15000002</td>\n",
       "      <td>Mortgage</td>\n",
       "      <td>James E Clarke vs Christopher Frankos</td>\n",
       "      <td>James E Clarke</td>\n",
       "      <td>Christopher Frankos</td>\n",
       "      <td>3015 Grindon Ave</td>\n",
       "      <td>21214</td>\n",
       "      <td>$279,975.59</td>\n",
       "    </tr>\n",
       "    <tr>\n",
       "      <th>2</th>\n",
       "      <td>2015-01-05</td>\n",
       "      <td>24O15000003</td>\n",
       "      <td>Mortgage</td>\n",
       "      <td>C.Larry Hofmeister Jr vs FTIC LLC, et al</td>\n",
       "      <td>C.Larry Hofmeister Jr</td>\n",
       "      <td>FTIC LLC, et al</td>\n",
       "      <td>2819 Pelham Ave</td>\n",
       "      <td>21213</td>\n",
       "      <td>NaN</td>\n",
       "    </tr>\n",
       "    <tr>\n",
       "      <th>3</th>\n",
       "      <td>2015-01-05</td>\n",
       "      <td>24O15000003</td>\n",
       "      <td>Mortgage</td>\n",
       "      <td>C.Larry Hofmeister Jr vs FTIC LLC, et al</td>\n",
       "      <td>C.Larry Hofmeister Jr</td>\n",
       "      <td>FTIC LLC, et al</td>\n",
       "      <td>3608 Beehler Ave</td>\n",
       "      <td>21215</td>\n",
       "      <td>NaN</td>\n",
       "    </tr>\n",
       "    <tr>\n",
       "      <th>4</th>\n",
       "      <td>2015-01-05</td>\n",
       "      <td>24O15000003</td>\n",
       "      <td>Mortgage</td>\n",
       "      <td>C.Larry Hofmeister Jr vs FTIC LLC, et al</td>\n",
       "      <td>C.Larry Hofmeister Jr</td>\n",
       "      <td>FTIC LLC, et al</td>\n",
       "      <td>3631 W Belvedere Ave</td>\n",
       "      <td>21215</td>\n",
       "      <td>NaN</td>\n",
       "    </tr>\n",
       "  </tbody>\n",
       "</table>\n",
       "</div>"
      ],
      "text/plain": [
       "  Filing Date  Case Number Case Type  \\\n",
       "0  2015-01-05  24O15000001  Mortgage   \n",
       "1  2015-01-05  24O15000002  Mortgage   \n",
       "2  2015-01-05  24O15000003  Mortgage   \n",
       "3  2015-01-05  24O15000003  Mortgage   \n",
       "4  2015-01-05  24O15000003  Mortgage   \n",
       "\n",
       "                                         Title              Plaintiff  \\\n",
       "0  Edward S Cohn vs Estate Of Sharon Stenhouse          Edward S Cohn   \n",
       "1        James E Clarke vs Christopher Frankos         James E Clarke   \n",
       "2     C.Larry Hofmeister Jr vs FTIC LLC, et al  C.Larry Hofmeister Jr   \n",
       "3     C.Larry Hofmeister Jr vs FTIC LLC, et al  C.Larry Hofmeister Jr   \n",
       "4     C.Larry Hofmeister Jr vs FTIC LLC, et al  C.Larry Hofmeister Jr   \n",
       "\n",
       "                    Defendant               Address Zip Code Partial Cost  \n",
       "0  Estate Of Sharon Stenhouse     3456 Dolfield Ave    21215   $57,793.24  \n",
       "1         Christopher Frankos      3015 Grindon Ave    21214  $279,975.59  \n",
       "2             FTIC LLC, et al       2819 Pelham Ave    21213          NaN  \n",
       "3             FTIC LLC, et al      3608 Beehler Ave    21215          NaN  \n",
       "4             FTIC LLC, et al  3631 W Belvedere Ave    21215          NaN  "
      ]
     },
     "execution_count": 3,
     "metadata": {},
     "output_type": "execute_result"
    }
   ],
   "source": [
    "df[\"Zip Code\"] = df[\"Zip Code\"].fillna(0.0).astype(int)\n",
    "df[\"Zip Code\"] = df[\"Zip Code\"].replace(0, '')\n",
    "\n",
    "df[\"Filing Date\"] = to_datetime(df[\"Filing Date\"])\n",
    "\n",
    "df.head()"
   ]
  },
  {
   "cell_type": "code",
   "execution_count": 4,
   "metadata": {
    "collapsed": false
   },
   "outputs": [
    {
     "name": "stdout",
     "output_type": "stream",
     "text": [
      "Count of features:\n",
      "\n",
      "Filing Date     3515\n",
      "Case Number     3515\n",
      "Case Type       3515\n",
      "Title           3515\n",
      "Plaintiff       3504\n",
      "Defendant       3504\n",
      "Address         3515\n",
      "Zip Code        3515\n",
      "Partial Cost    3308\n",
      "dtype: int64\n"
     ]
    }
   ],
   "source": [
    "print \"Count of features:\\n\"\n",
    "print df.count()"
   ]
  },
  {
   "cell_type": "code",
   "execution_count": 5,
   "metadata": {
    "collapsed": false
   },
   "outputs": [
    {
     "name": "stdout",
     "output_type": "stream",
     "text": [
      "NULL count:\n",
      "\n",
      "Filing Date       0\n",
      "Case Number       0\n",
      "Case Type         0\n",
      "Title             0\n",
      "Plaintiff        11\n",
      "Defendant        11\n",
      "Address           0\n",
      "Zip Code          0\n",
      "Partial Cost    207\n",
      "dtype: int64\n"
     ]
    }
   ],
   "source": [
    "print \"NULL count:\\n\"\n",
    "print df.isnull().sum()"
   ]
  },
  {
   "cell_type": "code",
   "execution_count": 6,
   "metadata": {
    "collapsed": false
   },
   "outputs": [],
   "source": [
    "new_df = DataFrame(df.groupby(df[\"Filing Date\"].dt.week)['Case Number'].count())\n",
    "new_df.columns = [\"Case Count\"]\n",
    "new_df[\"Week\"] = new_df.index"
   ]
  },
  {
   "cell_type": "code",
   "execution_count": 7,
   "metadata": {
    "collapsed": false
   },
   "outputs": [
    {
     "name": "stdout",
     "output_type": "stream",
     "text": [
      "Distribution of cases:\n",
      "\n",
      "count     52.000000\n",
      "mean      67.596154\n",
      "std       15.092213\n",
      "min       35.000000\n",
      "25%       57.000000\n",
      "50%       67.000000\n",
      "75%       77.750000\n",
      "max      103.000000\n",
      "Name: Case Count, dtype: float64\n"
     ]
    }
   ],
   "source": [
    "print \"Distribution of cases:\\n\"\n",
    "print new_df[\"Case Count\"].describe()"
   ]
  },
  {
   "cell_type": "code",
   "execution_count": 8,
   "metadata": {
    "collapsed": false
   },
   "outputs": [
    {
     "data": {
      "text/plain": [
       "<seaborn.axisgrid.FacetGrid at 0x7f1679133710>"
      ]
     },
     "execution_count": 8,
     "metadata": {},
     "output_type": "execute_result"
    },
    {
     "data": {
      "image/png": "[encoded data removed]",
      "text/plain": [
       "<matplotlib.figure.Figure at 0x7f1679133750>"
      ]
     },
     "metadata": {},
     "output_type": "display_data"
    }
   ],
   "source": [
    "p = sns.factorplot(x=\"Week\", y='Case Count', kind='bar', data=new_df, size=12)\n",
    "p.set_xticklabels(rotation=90, horizontalalignment='right')"
   ]
  }
 ],
 "metadata": {
  "kernelspec": {
   "display_name": "Python 2",
   "language": "python",
   "name": "python2"
  },
  "language_info": {
   "codemirror_mode": {
    "name": "ipython",
    "version": 2
   },
   "file_extension": ".py",
   "mimetype": "text/x-python",
   "name": "python",
   "nbconvert_exporter": "python",
   "pygments_lexer": "ipython2",
   "version": "2.7.12"
  }
 },
 "nbformat": 4,
 "nbformat_minor": 0
}
