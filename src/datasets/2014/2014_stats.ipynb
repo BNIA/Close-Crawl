{
 "cells": [
  {
   "cell_type": "markdown",
   "metadata": {},
   "source": [
    "# 2014 Scraped Foreclosure Case Data"
   ]
  },
  {
   "cell_type": "code",
   "execution_count": 1,
   "metadata": {
    "collapsed": false
   },
   "outputs": [],
   "source": [
    "from pandas import DataFrame, read_csv, to_datetime\n",
    "\n",
    "import seaborn as sns\n",
    "import matplotlib.pyplot as plt\n",
    "sns.set(style=\"whitegrid\", font_scale=1.5)\n",
    "%matplotlib inline"
   ]
  },
  {
   "cell_type": "code",
   "execution_count": 2,
   "metadata": {
    "collapsed": false
   },
   "outputs": [],
   "source": [
    "df = read_csv(\"2014.csv\")"
   ]
  },
  {
   "cell_type": "code",
   "execution_count": 3,
   "metadata": {
    "collapsed": false
   },
   "outputs": [
    {
     "data": {
      "text/html": [
       "<div>\n",
       "<table border=\"1\" class=\"dataframe\">\n",
       "  <thead>\n",
       "    <tr style=\"text-align: right;\">\n",
       "      <th></th>\n",
       "      <th>Filing Date</th>\n",
       "      <th>Case Number</th>\n",
       "      <th>Case Type</th>\n",
       "      <th>Title</th>\n",
       "      <th>Plaintiff</th>\n",
       "      <th>Defendant</th>\n",
       "      <th>Address</th>\n",
       "      <th>Zip Code</th>\n",
       "      <th>Partial Cost</th>\n",
       "    </tr>\n",
       "  </thead>\n",
       "  <tbody>\n",
       "    <tr>\n",
       "      <th>0</th>\n",
       "      <td>2014-01-02</td>\n",
       "      <td>24O14000001</td>\n",
       "      <td>Mortgage</td>\n",
       "      <td>James E Clarke vs Tiffany R Harris</td>\n",
       "      <td>James E Clarke</td>\n",
       "      <td>Tiffany R Harris</td>\n",
       "      <td>4603 Valley View Ave</td>\n",
       "      <td>21206</td>\n",
       "      <td>$175,648.50</td>\n",
       "    </tr>\n",
       "    <tr>\n",
       "      <th>1</th>\n",
       "      <td>2014-01-02</td>\n",
       "      <td>24O14000002</td>\n",
       "      <td>Mortgage</td>\n",
       "      <td>James W Holderness vs Intercoastal Investment ...</td>\n",
       "      <td>James W Holderness</td>\n",
       "      <td>Intercoastal Investment Trust Ltd</td>\n",
       "      <td>4718 Edmondson Ave</td>\n",
       "      <td>21229</td>\n",
       "      <td>$166,358.48</td>\n",
       "    </tr>\n",
       "    <tr>\n",
       "      <th>2</th>\n",
       "      <td>2014-01-02</td>\n",
       "      <td>24O14000003</td>\n",
       "      <td>Mortgage</td>\n",
       "      <td>James W Holderness vs Intercoastal Investment ...</td>\n",
       "      <td>James W Holderness</td>\n",
       "      <td>Intercoastal Investment Trust Ltd</td>\n",
       "      <td>333 N Stricker St</td>\n",
       "      <td>21223</td>\n",
       "      <td>$23,189.54</td>\n",
       "    </tr>\n",
       "    <tr>\n",
       "      <th>3</th>\n",
       "      <td>2014-01-02</td>\n",
       "      <td>24O14000004</td>\n",
       "      <td>Mortgage</td>\n",
       "      <td>Diane S Rosenberg vs Quandra P Freeman</td>\n",
       "      <td>Diane S Rosenberg</td>\n",
       "      <td>Quandra P Freeman</td>\n",
       "      <td>2304 Cloville Ave</td>\n",
       "      <td>21214</td>\n",
       "      <td>$172,140.22</td>\n",
       "    </tr>\n",
       "    <tr>\n",
       "      <th>4</th>\n",
       "      <td>2014-01-02</td>\n",
       "      <td>24O14000005</td>\n",
       "      <td>Mortgage</td>\n",
       "      <td>Diane S Rosenberg vs Laverne D Griffin</td>\n",
       "      <td>Diane S Rosenberg</td>\n",
       "      <td>Laverne D Griffin</td>\n",
       "      <td>3229 E Baltimore St</td>\n",
       "      <td>21224</td>\n",
       "      <td>$199,004.34</td>\n",
       "    </tr>\n",
       "  </tbody>\n",
       "</table>\n",
       "</div>"
      ],
      "text/plain": [
       "  Filing Date  Case Number Case Type  \\\n",
       "0  2014-01-02  24O14000001  Mortgage   \n",
       "1  2014-01-02  24O14000002  Mortgage   \n",
       "2  2014-01-02  24O14000003  Mortgage   \n",
       "3  2014-01-02  24O14000004  Mortgage   \n",
       "4  2014-01-02  24O14000005  Mortgage   \n",
       "\n",
       "                                               Title           Plaintiff  \\\n",
       "0                 James E Clarke vs Tiffany R Harris      James E Clarke   \n",
       "1  James W Holderness vs Intercoastal Investment ...  James W Holderness   \n",
       "2  James W Holderness vs Intercoastal Investment ...  James W Holderness   \n",
       "3             Diane S Rosenberg vs Quandra P Freeman   Diane S Rosenberg   \n",
       "4             Diane S Rosenberg vs Laverne D Griffin   Diane S Rosenberg   \n",
       "\n",
       "                           Defendant               Address Zip Code  \\\n",
       "0                   Tiffany R Harris  4603 Valley View Ave    21206   \n",
       "1  Intercoastal Investment Trust Ltd    4718 Edmondson Ave    21229   \n",
       "2  Intercoastal Investment Trust Ltd     333 N Stricker St    21223   \n",
       "3                  Quandra P Freeman     2304 Cloville Ave    21214   \n",
       "4                  Laverne D Griffin   3229 E Baltimore St    21224   \n",
       "\n",
       "  Partial Cost  \n",
       "0  $175,648.50  \n",
       "1  $166,358.48  \n",
       "2   $23,189.54  \n",
       "3  $172,140.22  \n",
       "4  $199,004.34  "
      ]
     },
     "execution_count": 3,
     "metadata": {},
     "output_type": "execute_result"
    }
   ],
   "source": [
    "df[\"Zip Code\"] = df[\"Zip Code\"].fillna(0.0).astype(int)\n",
    "df[\"Zip Code\"] = df[\"Zip Code\"].replace(0, '')\n",
    "\n",
    "df[\"Filing Date\"] = to_datetime(df[\"Filing Date\"])\n",
    "\n",
    "df.head()"
   ]
  },
  {
   "cell_type": "code",
   "execution_count": 4,
   "metadata": {
    "collapsed": false
   },
   "outputs": [
    {
     "name": "stdout",
     "output_type": "stream",
     "text": [
      "Count of features:\n",
      "\n",
      "Filing Date     4088\n",
      "Case Number     4088\n",
      "Case Type       4088\n",
      "Title           4088\n",
      "Plaintiff       4086\n",
      "Defendant       4086\n",
      "Address         4088\n",
      "Zip Code        4088\n",
      "Partial Cost    3539\n",
      "dtype: int64\n"
     ]
    }
   ],
   "source": [
    "print \"Count of features:\\n\"\n",
    "print df.count()"
   ]
  },
  {
   "cell_type": "code",
   "execution_count": 5,
   "metadata": {
    "collapsed": false
   },
   "outputs": [
    {
     "name": "stdout",
     "output_type": "stream",
     "text": [
      "NULL count:\n",
      "\n",
      "Filing Date       0\n",
      "Case Number       0\n",
      "Case Type         0\n",
      "Title             0\n",
      "Plaintiff         2\n",
      "Defendant         2\n",
      "Address           0\n",
      "Zip Code          0\n",
      "Partial Cost    549\n",
      "dtype: int64\n"
     ]
    }
   ],
   "source": [
    "print \"NULL count:\\n\"\n",
    "print df.isnull().sum()"
   ]
  },
  {
   "cell_type": "code",
   "execution_count": 6,
   "metadata": {
    "collapsed": false
   },
   "outputs": [],
   "source": [
    "new_df = DataFrame(df.groupby(df[\"Filing Date\"].dt.week)['Case Number'].count())\n",
    "new_df.columns = [\"Case Count\"]\n",
    "new_df[\"Week\"] = new_df.index"
   ]
  },
  {
   "cell_type": "code",
   "execution_count": 7,
   "metadata": {
    "collapsed": false
   },
   "outputs": [
    {
     "name": "stdout",
     "output_type": "stream",
     "text": [
      "Distribution of cases:\n",
      "\n",
      "count     52.000000\n",
      "mean      78.615385\n",
      "std       15.262608\n",
      "min       42.000000\n",
      "25%       69.000000\n",
      "50%       80.000000\n",
      "75%       86.500000\n",
      "max      108.000000\n",
      "Name: Case Count, dtype: float64\n"
     ]
    }
   ],
   "source": [
    "print \"Distribution of cases:\\n\"\n",
    "print new_df[\"Case Count\"].describe()"
   ]
  },
  {
   "cell_type": "code",
   "execution_count": 8,
   "metadata": {
    "collapsed": false
   },
   "outputs": [
    {
     "data": {
      "text/plain": [
       "<seaborn.axisgrid.FacetGrid at 0x7f70d8030690>"
      ]
     },
     "execution_count": 8,
     "metadata": {},
     "output_type": "execute_result"
    },
    {
     "data": {
      "image/png": "[encoded data removed]",
      "text/plain": [
       "<matplotlib.figure.Figure at 0x7f70d8030bd0>"
      ]
     },
     "metadata": {},
     "output_type": "display_data"
    }
   ],
   "source": [
    "p = sns.factorplot(x=\"Week\", y='Case Count', kind='bar', data=new_df, size=12)\n",
    "p.set_xticklabels(rotation=90, horizontalalignment='right')"
   ]
  },
  {
   "cell_type": "code",
   "execution_count": null,
   "metadata": {
    "collapsed": true
   },
   "outputs": [],
   "source": []
  }
 ],
 "metadata": {
  "kernelspec": {
   "display_name": "Python 2",
   "language": "python",
   "name": "python2"
  },
  "language_info": {
   "codemirror_mode": {
    "name": "ipython",
    "version": 2
   },
   "file_extension": ".py",
   "mimetype": "text/x-python",
   "name": "python",
   "nbconvert_exporter": "python",
   "pygments_lexer": "ipython2",
   "version": "2.7.12"
  }
 },
 "nbformat": 4,
 "nbformat_minor": 0
}
