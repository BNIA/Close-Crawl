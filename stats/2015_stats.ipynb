{
 "cells": [
  {
   "cell_type": "code",
   "execution_count": 1,
   "metadata": {
    "collapsed": false
   },
   "outputs": [],
   "source": [
    "from os import getcwd, path\n",
    "\n",
    "import matplotlib.pyplot as plt\n",
    "from pandas import DataFrame, read_csv, to_datetime\n",
    "import seaborn as sns\n",
    "\n",
    "sns.set(style=\"whitegrid\", font_scale=1.5)\n",
    "%matplotlib inline"
   ]
  },
  {
   "cell_type": "code",
   "execution_count": 2,
   "metadata": {
    "collapsed": false
   },
   "outputs": [],
   "source": [
    "BASE_PATH = path.join(\n",
    "    path.dirname(getcwd()), \"src\", \"datasets\", \"final.csv\"\n",
    ")\n",
    "\n",
    "df = read_csv(BASE_PATH)"
   ]
  },
  {
   "cell_type": "code",
   "execution_count": 3,
   "metadata": {
    "collapsed": false
   },
   "outputs": [
    {
     "data": {
      "text/html": [
       "<div>\n",
       "<table border=\"1\" class=\"dataframe\">\n",
       "  <thead>\n",
       "    <tr style=\"text-align: right;\">\n",
       "      <th></th>\n",
       "      <th>Filing Date</th>\n",
       "      <th>Case Number</th>\n",
       "      <th>Case Type</th>\n",
       "      <th>Title</th>\n",
       "      <th>Plaintiff</th>\n",
       "      <th>Defendant</th>\n",
       "      <th>Address</th>\n",
       "      <th>Zip Code</th>\n",
       "      <th>Partial Cost</th>\n",
       "    </tr>\n",
       "  </thead>\n",
       "  <tbody>\n",
       "    <tr>\n",
       "      <th>0</th>\n",
       "      <td>01/05/2015</td>\n",
       "      <td>24O15000001</td>\n",
       "      <td>Mortgage</td>\n",
       "      <td>Edward S Cohn vs Estate Of Sharon Stenhouse</td>\n",
       "      <td>Edward S Cohn</td>\n",
       "      <td>Estate Of Sharon Stenhouse</td>\n",
       "      <td>3456 Dolfield Ave</td>\n",
       "      <td>21215.0</td>\n",
       "      <td>$57,793.24</td>\n",
       "    </tr>\n",
       "    <tr>\n",
       "      <th>1</th>\n",
       "      <td>01/05/2015</td>\n",
       "      <td>24O15000002</td>\n",
       "      <td>Mortgage</td>\n",
       "      <td>James E Clarke vs Christopher Frankos</td>\n",
       "      <td>James E Clarke</td>\n",
       "      <td>Christopher Frankos</td>\n",
       "      <td>3015 Grindon Ave</td>\n",
       "      <td>21214.0</td>\n",
       "      <td>$279,975.59</td>\n",
       "    </tr>\n",
       "    <tr>\n",
       "      <th>2</th>\n",
       "      <td>01/05/2015</td>\n",
       "      <td>24O15000003</td>\n",
       "      <td>Mortgage</td>\n",
       "      <td>C.Larry Hofmeister Jr vs FTIC LLC, et al</td>\n",
       "      <td>C.Larry Hofmeister Jr</td>\n",
       "      <td>FTIC LLC, et al</td>\n",
       "      <td>2819 Pelham Ave</td>\n",
       "      <td>21213.0</td>\n",
       "      <td>NaN</td>\n",
       "    </tr>\n",
       "    <tr>\n",
       "      <th>3</th>\n",
       "      <td>01/05/2015</td>\n",
       "      <td>24O15000003</td>\n",
       "      <td>Mortgage</td>\n",
       "      <td>C.Larry Hofmeister Jr vs FTIC LLC, et al</td>\n",
       "      <td>C.Larry Hofmeister Jr</td>\n",
       "      <td>FTIC LLC, et al</td>\n",
       "      <td>3608 Beehler Ave</td>\n",
       "      <td>21215.0</td>\n",
       "      <td>NaN</td>\n",
       "    </tr>\n",
       "    <tr>\n",
       "      <th>4</th>\n",
       "      <td>01/05/2015</td>\n",
       "      <td>24O15000003</td>\n",
       "      <td>Mortgage</td>\n",
       "      <td>C.Larry Hofmeister Jr vs FTIC LLC, et al</td>\n",
       "      <td>C.Larry Hofmeister Jr</td>\n",
       "      <td>FTIC LLC, et al</td>\n",
       "      <td>3631 W Belvedere Ave</td>\n",
       "      <td>21215.0</td>\n",
       "      <td>NaN</td>\n",
       "    </tr>\n",
       "  </tbody>\n",
       "</table>\n",
       "</div>"
      ],
      "text/plain": [
       "  Filing Date  Case Number Case Type  \\\n",
       "0  01/05/2015  24O15000001  Mortgage   \n",
       "1  01/05/2015  24O15000002  Mortgage   \n",
       "2  01/05/2015  24O15000003  Mortgage   \n",
       "3  01/05/2015  24O15000003  Mortgage   \n",
       "4  01/05/2015  24O15000003  Mortgage   \n",
       "\n",
       "                                         Title              Plaintiff  \\\n",
       "0  Edward S Cohn vs Estate Of Sharon Stenhouse          Edward S Cohn   \n",
       "1        James E Clarke vs Christopher Frankos         James E Clarke   \n",
       "2     C.Larry Hofmeister Jr vs FTIC LLC, et al  C.Larry Hofmeister Jr   \n",
       "3     C.Larry Hofmeister Jr vs FTIC LLC, et al  C.Larry Hofmeister Jr   \n",
       "4     C.Larry Hofmeister Jr vs FTIC LLC, et al  C.Larry Hofmeister Jr   \n",
       "\n",
       "                    Defendant               Address  Zip Code Partial Cost  \n",
       "0  Estate Of Sharon Stenhouse     3456 Dolfield Ave   21215.0   $57,793.24  \n",
       "1         Christopher Frankos      3015 Grindon Ave   21214.0  $279,975.59  \n",
       "2             FTIC LLC, et al       2819 Pelham Ave   21213.0          NaN  \n",
       "3             FTIC LLC, et al      3608 Beehler Ave   21215.0          NaN  \n",
       "4             FTIC LLC, et al  3631 W Belvedere Ave   21215.0          NaN  "
      ]
     },
     "execution_count": 3,
     "metadata": {},
     "output_type": "execute_result"
    }
   ],
   "source": [
    "df.head()"
   ]
  },
  {
   "cell_type": "code",
   "execution_count": 4,
   "metadata": {
    "collapsed": false
   },
   "outputs": [],
   "source": [
    "df[\"Filing Date\"] = to_datetime(df[\"Filing Date\"])"
   ]
  },
  {
   "cell_type": "code",
   "execution_count": 5,
   "metadata": {
    "collapsed": false
   },
   "outputs": [],
   "source": [
    "new_df = DataFrame(df.groupby(df[\"Filing Date\"].dt.week)['Case Number'].count())"
   ]
  },
  {
   "cell_type": "code",
   "execution_count": 6,
   "metadata": {
    "collapsed": false
   },
   "outputs": [
    {
     "data": {
      "text/html": [
       "<div>\n",
       "<table border=\"1\" class=\"dataframe\">\n",
       "  <thead>\n",
       "    <tr style=\"text-align: right;\">\n",
       "      <th></th>\n",
       "      <th>Case Number</th>\n",
       "    </tr>\n",
       "  </thead>\n",
       "  <tbody>\n",
       "    <tr>\n",
       "      <th>count</th>\n",
       "      <td>52.000000</td>\n",
       "    </tr>\n",
       "    <tr>\n",
       "      <th>mean</th>\n",
       "      <td>67.596154</td>\n",
       "    </tr>\n",
       "    <tr>\n",
       "      <th>std</th>\n",
       "      <td>15.092213</td>\n",
       "    </tr>\n",
       "    <tr>\n",
       "      <th>min</th>\n",
       "      <td>35.000000</td>\n",
       "    </tr>\n",
       "    <tr>\n",
       "      <th>25%</th>\n",
       "      <td>57.000000</td>\n",
       "    </tr>\n",
       "    <tr>\n",
       "      <th>50%</th>\n",
       "      <td>67.000000</td>\n",
       "    </tr>\n",
       "    <tr>\n",
       "      <th>75%</th>\n",
       "      <td>77.750000</td>\n",
       "    </tr>\n",
       "    <tr>\n",
       "      <th>max</th>\n",
       "      <td>103.000000</td>\n",
       "    </tr>\n",
       "  </tbody>\n",
       "</table>\n",
       "</div>"
      ],
      "text/plain": [
       "       Case Number\n",
       "count    52.000000\n",
       "mean     67.596154\n",
       "std      15.092213\n",
       "min      35.000000\n",
       "25%      57.000000\n",
       "50%      67.000000\n",
       "75%      77.750000\n",
       "max     103.000000"
      ]
     },
     "execution_count": 6,
     "metadata": {},
     "output_type": "execute_result"
    }
   ],
   "source": [
    "new_df.describe()"
   ]
  },
  {
   "cell_type": "code",
   "execution_count": 7,
   "metadata": {
    "collapsed": false
   },
   "outputs": [
    {
     "data": {
      "text/plain": [
       "<seaborn.axisgrid.FacetGrid at 0x7f9914370cd0>"
      ]
     },
     "execution_count": 7,
     "metadata": {},
     "output_type": "execute_result"
    },
    {
     "data": {
      "image/png": "[encoded data removed]",
      "text/plain": [
       "<matplotlib.figure.Figure at 0x7f994961b750>"
      ]
     },
     "metadata": {},
     "output_type": "display_data"
    }
   ],
   "source": [
    "p = sns.factorplot(x=new_df.index, y='Case Number', kind='bar', data=new_df, size=12)\n",
    "p.set_xticklabels(rotation=90, horizontalalignment='right')"
   ]
  }
 ],
 "metadata": {
  "kernelspec": {
   "display_name": "Python 2",
   "language": "python",
   "name": "python2"
  },
  "language_info": {
   "codemirror_mode": {
    "name": "ipython",
    "version": 2
   },
   "file_extension": ".py",
   "mimetype": "text/x-python",
   "name": "python",
   "nbconvert_exporter": "python",
   "pygments_lexer": "ipython2",
   "version": "2.7.12"
  }
 },
 "nbformat": 4,
 "nbformat_minor": 0
}
